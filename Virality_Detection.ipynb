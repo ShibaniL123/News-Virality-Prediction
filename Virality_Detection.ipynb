{
  "nbformat": 4,
  "nbformat_minor": 0,
  "metadata": {
    "colab": {
      "name": "Virality Detection.ipynb",
      "provenance": []
    },
    "kernelspec": {
      "name": "python3",
      "display_name": "Python 3"
    }
  },
  "cells": [
    {
      "cell_type": "code",
      "metadata": {
        "id": "ro8rZBMPi8UQ",
        "colab_type": "code",
        "colab": {
          "base_uri": "https://localhost:8080/",
          "height": 868
        },
        "outputId": "42bd194a-1296-4dcc-f665-c9ac574187f5"
      },
      "source": [
        "!pip3 install newspaper3k "
      ],
      "execution_count": 1,
      "outputs": [
        {
          "output_type": "stream",
          "text": [
            "Collecting newspaper3k\n",
            "\u001b[?25l  Downloading https://files.pythonhosted.org/packages/d7/b9/51afecb35bb61b188a4b44868001de348a0e8134b4dfa00ffc191567c4b9/newspaper3k-0.2.8-py3-none-any.whl (211kB)\n",
            "\r\u001b[K     |█▌                              | 10kB 21.6MB/s eta 0:00:01\r\u001b[K     |███                             | 20kB 2.2MB/s eta 0:00:01\r\u001b[K     |████▋                           | 30kB 3.2MB/s eta 0:00:01\r\u001b[K     |██████▏                         | 40kB 2.1MB/s eta 0:00:01\r\u001b[K     |███████▊                        | 51kB 2.6MB/s eta 0:00:01\r\u001b[K     |█████████▎                      | 61kB 3.1MB/s eta 0:00:01\r\u001b[K     |██████████▉                     | 71kB 3.6MB/s eta 0:00:01\r\u001b[K     |████████████▍                   | 81kB 2.8MB/s eta 0:00:01\r\u001b[K     |██████████████                  | 92kB 3.1MB/s eta 0:00:01\r\u001b[K     |███████████████▌                | 102kB 3.4MB/s eta 0:00:01\r\u001b[K     |█████████████████               | 112kB 3.4MB/s eta 0:00:01\r\u001b[K     |██████████████████▋             | 122kB 3.4MB/s eta 0:00:01\r\u001b[K     |████████████████████▏           | 133kB 3.4MB/s eta 0:00:01\r\u001b[K     |█████████████████████▊          | 143kB 3.4MB/s eta 0:00:01\r\u001b[K     |███████████████████████▎        | 153kB 3.4MB/s eta 0:00:01\r\u001b[K     |████████████████████████▉       | 163kB 3.4MB/s eta 0:00:01\r\u001b[K     |██████████████████████████▍     | 174kB 3.4MB/s eta 0:00:01\r\u001b[K     |████████████████████████████    | 184kB 3.4MB/s eta 0:00:01\r\u001b[K     |█████████████████████████████▌  | 194kB 3.4MB/s eta 0:00:01\r\u001b[K     |███████████████████████████████ | 204kB 3.4MB/s eta 0:00:01\r\u001b[K     |████████████████████████████████| 215kB 3.4MB/s \n",
            "\u001b[?25hCollecting feedfinder2>=0.0.4\n",
            "  Downloading https://files.pythonhosted.org/packages/35/82/1251fefec3bb4b03fd966c7e7f7a41c9fc2bb00d823a34c13f847fd61406/feedfinder2-0.0.4.tar.gz\n",
            "Requirement already satisfied: beautifulsoup4>=4.4.1 in /usr/local/lib/python3.6/dist-packages (from newspaper3k) (4.6.3)\n",
            "Collecting cssselect>=0.9.2\n",
            "  Downloading https://files.pythonhosted.org/packages/3b/d4/3b5c17f00cce85b9a1e6f91096e1cc8e8ede2e1be8e96b87ce1ed09e92c5/cssselect-1.1.0-py2.py3-none-any.whl\n",
            "Collecting feedparser>=5.2.1\n",
            "\u001b[?25l  Downloading https://files.pythonhosted.org/packages/91/d8/7d37fec71ff7c9dbcdd80d2b48bcdd86d6af502156fc93846fb0102cb2c4/feedparser-5.2.1.tar.bz2 (192kB)\n",
            "\u001b[K     |████████████████████████████████| 194kB 49.4MB/s \n",
            "\u001b[?25hCollecting tldextract>=2.0.1\n",
            "\u001b[?25l  Downloading https://files.pythonhosted.org/packages/fd/0e/9ab599d6e78f0340bb1d1e28ddeacb38c8bb7f91a1b0eae9a24e9603782f/tldextract-2.2.2-py2.py3-none-any.whl (48kB)\n",
            "\u001b[K     |████████████████████████████████| 51kB 7.0MB/s \n",
            "\u001b[?25hCollecting jieba3k>=0.35.1\n",
            "\u001b[?25l  Downloading https://files.pythonhosted.org/packages/a9/cb/2c8332bcdc14d33b0bedd18ae0a4981a069c3513e445120da3c3f23a8aaa/jieba3k-0.35.1.zip (7.4MB)\n",
            "\u001b[K     |████████████████████████████████| 7.4MB 49.4MB/s \n",
            "\u001b[?25hRequirement already satisfied: nltk>=3.2.1 in /usr/local/lib/python3.6/dist-packages (from newspaper3k) (3.2.5)\n",
            "Collecting tinysegmenter==0.3\n",
            "  Downloading https://files.pythonhosted.org/packages/17/82/86982e4b6d16e4febc79c2a1d68ee3b707e8a020c5d2bc4af8052d0f136a/tinysegmenter-0.3.tar.gz\n",
            "Requirement already satisfied: python-dateutil>=2.5.3 in /usr/local/lib/python3.6/dist-packages (from newspaper3k) (2.8.1)\n",
            "Requirement already satisfied: PyYAML>=3.11 in /usr/local/lib/python3.6/dist-packages (from newspaper3k) (3.13)\n",
            "Requirement already satisfied: requests>=2.10.0 in /usr/local/lib/python3.6/dist-packages (from newspaper3k) (2.21.0)\n",
            "Requirement already satisfied: lxml>=3.6.0 in /usr/local/lib/python3.6/dist-packages (from newspaper3k) (4.2.6)\n",
            "Requirement already satisfied: Pillow>=3.3.0 in /usr/local/lib/python3.6/dist-packages (from newspaper3k) (7.0.0)\n",
            "Requirement already satisfied: six in /usr/local/lib/python3.6/dist-packages (from feedfinder2>=0.0.4->newspaper3k) (1.12.0)\n",
            "Requirement already satisfied: idna in /usr/local/lib/python3.6/dist-packages (from tldextract>=2.0.1->newspaper3k) (2.8)\n",
            "Collecting requests-file>=1.4\n",
            "  Downloading https://files.pythonhosted.org/packages/77/86/cdb5e8eaed90796aa83a6d9f75cfbd37af553c47a291cd47bc410ef9bdb2/requests_file-1.5.1-py2.py3-none-any.whl\n",
            "Requirement already satisfied: setuptools in /usr/local/lib/python3.6/dist-packages (from tldextract>=2.0.1->newspaper3k) (46.1.3)\n",
            "Requirement already satisfied: urllib3<1.25,>=1.21.1 in /usr/local/lib/python3.6/dist-packages (from requests>=2.10.0->newspaper3k) (1.24.3)\n",
            "Requirement already satisfied: certifi>=2017.4.17 in /usr/local/lib/python3.6/dist-packages (from requests>=2.10.0->newspaper3k) (2020.4.5.1)\n",
            "Requirement already satisfied: chardet<3.1.0,>=3.0.2 in /usr/local/lib/python3.6/dist-packages (from requests>=2.10.0->newspaper3k) (3.0.4)\n",
            "Building wheels for collected packages: feedfinder2, feedparser, jieba3k, tinysegmenter\n",
            "  Building wheel for feedfinder2 (setup.py) ... \u001b[?25l\u001b[?25hdone\n",
            "  Created wheel for feedfinder2: filename=feedfinder2-0.0.4-cp36-none-any.whl size=3357 sha256=9c1ef4339d843fc13b3a92270c57a9338dba43a4a01694458923a3ff1a5bfc86\n",
            "  Stored in directory: /root/.cache/pip/wheels/de/03/ca/778e3a7a627e3d98836cc890e7cb40c7575424cfd3340f40ed\n",
            "  Building wheel for feedparser (setup.py) ... \u001b[?25l\u001b[?25hdone\n",
            "  Created wheel for feedparser: filename=feedparser-5.2.1-cp36-none-any.whl size=44940 sha256=20c44a418d1a65c665ca3c4b49278826cc4c98235db7562fec227137e72ee013\n",
            "  Stored in directory: /root/.cache/pip/wheels/8c/69/b7/f52763c41c5471df57703a0ef718a32a5e81ee35dcf6d4f97f\n",
            "  Building wheel for jieba3k (setup.py) ... \u001b[?25l\u001b[?25hdone\n",
            "  Created wheel for jieba3k: filename=jieba3k-0.35.1-cp36-none-any.whl size=7398406 sha256=b314c2cf2d784dcfb2c3e5f339731fdc95e9e3f32e78f51a251b394571e3fccc\n",
            "  Stored in directory: /root/.cache/pip/wheels/83/15/9c/a3f1f67e7f7181170ad37d32e503c35da20627c013f438ed34\n",
            "  Building wheel for tinysegmenter (setup.py) ... \u001b[?25l\u001b[?25hdone\n",
            "  Created wheel for tinysegmenter: filename=tinysegmenter-0.3-cp36-none-any.whl size=13539 sha256=281c43e42bcc6f08f94bee030bec3c6311ed9dbb638469d143938e63e35ce88f\n",
            "  Stored in directory: /root/.cache/pip/wheels/81/2b/43/a02ede72324dd40cdd7ca53aad718c7710628e91b8b0dc0f02\n",
            "Successfully built feedfinder2 feedparser jieba3k tinysegmenter\n",
            "Installing collected packages: feedfinder2, cssselect, feedparser, requests-file, tldextract, jieba3k, tinysegmenter, newspaper3k\n",
            "Successfully installed cssselect-1.1.0 feedfinder2-0.0.4 feedparser-5.2.1 jieba3k-0.35.1 newspaper3k-0.2.8 requests-file-1.5.1 tinysegmenter-0.3 tldextract-2.2.2\n"
          ],
          "name": "stdout"
        }
      ]
    },
    {
      "cell_type": "markdown",
      "metadata": {
        "id": "k9THGrIXJkGB",
        "colab_type": "text"
      },
      "source": [
        "# Import Libraries"
      ]
    },
    {
      "cell_type": "code",
      "metadata": {
        "id": "iOvKM4l6lSaq",
        "colab_type": "code",
        "colab": {}
      },
      "source": [
        "import os\n",
        "import pandas as pd\n",
        "import numpy as np\n",
        "import os\n",
        "import re\n",
        "import sys\n",
        "from sklearn import linear_model\n",
        "from sklearn import ensemble\n",
        "from sklearn.model_selection import train_test_split\n",
        "from sklearn.metrics import confusion_matrix, roc_curve, roc_auc_score\n",
        "from sklearn.pipeline import Pipeline\n",
        "from sklearn.preprocessing import PolynomialFeatures\n",
        "from sklearn import preprocessing\n",
        "from sklearn.naive_bayes import GaussianNB\n",
        "from sklearn import metrics\n",
        "from sklearn.neighbors import KNeighborsClassifier\n",
        "from sklearn import svm\n",
        "from sklearn.tree import DecisionTreeClassifier\n",
        "from sklearn.linear_model import LinearRegression\n",
        "from sklearn.ensemble import RandomForestRegressor\n",
        "import math\n",
        "import matplotlib.pyplot as plt\n",
        "import seaborn as sns\n",
        "import datetime\n",
        "#from pandas_summary import DataFrameSummary\n",
        "#from IPython.display import display\n",
        "\n"
      ],
      "execution_count": 0,
      "outputs": []
    },
    {
      "cell_type": "code",
      "metadata": {
        "id": "iD8yqzUTD6zs",
        "colab_type": "code",
        "colab": {}
      },
      "source": [
        "\n",
        "\n",
        "# Importing packages\n",
        "\n",
        "import os\n",
        "import pandas as pd\n",
        "from pandas import DataFrame,Series\n",
        "from sklearn import tree\n",
        "import matplotlib\n",
        "import numpy as np\n",
        "import matplotlib.pyplot as plt\n",
        "from sklearn import svm\n",
        "from sklearn.preprocessing import StandardScaler\n",
        "import statsmodels.formula.api as smf\n",
        "import statsmodels.api as sm\n",
        "from mpl_toolkits.mplot3d import Axes3D\n",
        "import seaborn as sns\n",
        "from sklearn import neighbors\n",
        "from sklearn import linear_model\n",
        "%matplotlib inline\n",
        "\n"
      ],
      "execution_count": 0,
      "outputs": []
    },
    {
      "cell_type": "code",
      "metadata": {
        "id": "UzsAfI4wlZKA",
        "colab_type": "code",
        "colab": {}
      },
      "source": [
        "from newspaper import Article "
      ],
      "execution_count": 0,
      "outputs": []
    },
    {
      "cell_type": "code",
      "metadata": {
        "id": "qPL0y7ible-x",
        "colab_type": "code",
        "colab": {
          "base_uri": "https://localhost:8080/",
          "height": 69
        },
        "outputId": "bb41497d-e5ad-4eea-818c-15e4ae299ad3"
      },
      "source": [
        "import nltk\n",
        "nltk.download('punkt')"
      ],
      "execution_count": 4,
      "outputs": [
        {
          "output_type": "stream",
          "text": [
            "[nltk_data] Downloading package punkt to /root/nltk_data...\n",
            "[nltk_data]   Unzipping tokenizers/punkt.zip.\n"
          ],
          "name": "stdout"
        },
        {
          "output_type": "execute_result",
          "data": {
            "text/plain": [
              "True"
            ]
          },
          "metadata": {
            "tags": []
          },
          "execution_count": 4
        }
      ]
    },
    {
      "cell_type": "code",
      "metadata": {
        "id": "L2Tum2t_yFmb",
        "colab_type": "code",
        "colab": {
          "base_uri": "https://localhost:8080/",
          "height": 52
        },
        "outputId": "27bccff4-7239-4f5b-f2f6-046313db03bc"
      },
      "source": [
        "nltk.download('vader_lexicon')"
      ],
      "execution_count": 32,
      "outputs": [
        {
          "output_type": "stream",
          "text": [
            "[nltk_data] Downloading package vader_lexicon to /root/nltk_data...\n"
          ],
          "name": "stdout"
        },
        {
          "output_type": "execute_result",
          "data": {
            "text/plain": [
              "True"
            ]
          },
          "metadata": {
            "tags": []
          },
          "execution_count": 32
        }
      ]
    },
    {
      "cell_type": "code",
      "metadata": {
        "id": "uMYpwL8myKod",
        "colab_type": "code",
        "colab": {}
      },
      "source": [
        "from nltk.sentiment.vader import SentimentIntensityAnalyzer"
      ],
      "execution_count": 0,
      "outputs": []
    },
    {
      "cell_type": "markdown",
      "metadata": {
        "id": "vNX_2vNKJv22",
        "colab_type": "text"
      },
      "source": [
        "# Read data\n"
      ]
    },
    {
      "cell_type": "code",
      "metadata": {
        "id": "qUF-DdmmliEQ",
        "colab_type": "code",
        "colab": {}
      },
      "source": [
        "df=pd.read_csv('tweet_data2.csv')\n",
        "df1=pd.read_csv('tweet_data3.csv')\n",
        "df3=df.append(df1)\n",
        "df=df3"
      ],
      "execution_count": 0,
      "outputs": []
    },
    {
      "cell_type": "code",
      "metadata": {
        "id": "1zmtcz8jlw6Q",
        "colab_type": "code",
        "colab": {}
      },
      "source": [
        "df.reset_index(inplace=True)"
      ],
      "execution_count": 0,
      "outputs": []
    },
    {
      "cell_type": "code",
      "metadata": {
        "id": "XmvW_5I3mDGG",
        "colab_type": "code",
        "colab": {}
      },
      "source": [
        "df.drop(['level_0'],axis=1,inplace=True)"
      ],
      "execution_count": 0,
      "outputs": []
    },
    {
      "cell_type": "code",
      "metadata": {
        "id": "M9pSwxfgmEmn",
        "colab_type": "code",
        "colab": {
          "base_uri": "https://localhost:8080/",
          "height": 1000
        },
        "outputId": "f13c7150-702b-4f23-dade-7bd87fa1572c"
      },
      "source": [
        "df"
      ],
      "execution_count": 11,
      "outputs": [
        {
          "output_type": "execute_result",
          "data": {
            "text/html": [
              "<div>\n",
              "<style scoped>\n",
              "    .dataframe tbody tr th:only-of-type {\n",
              "        vertical-align: middle;\n",
              "    }\n",
              "\n",
              "    .dataframe tbody tr th {\n",
              "        vertical-align: top;\n",
              "    }\n",
              "\n",
              "    .dataframe thead th {\n",
              "        text-align: right;\n",
              "    }\n",
              "</style>\n",
              "<table border=\"1\" class=\"dataframe\">\n",
              "  <thead>\n",
              "    <tr style=\"text-align: right;\">\n",
              "      <th></th>\n",
              "      <th>tweet_id</th>\n",
              "      <th>name</th>\n",
              "      <th>screen_name</th>\n",
              "      <th>retweet_count</th>\n",
              "      <th>text</th>\n",
              "      <th>mined_at</th>\n",
              "      <th>created_at</th>\n",
              "      <th>favourite_count</th>\n",
              "      <th>hashtags</th>\n",
              "      <th>status_count</th>\n",
              "      <th>location</th>\n",
              "      <th>source_device</th>\n",
              "      <th>retweet_text</th>\n",
              "      <th>quote_text</th>\n",
              "      <th>quote_screen_name</th>\n",
              "    </tr>\n",
              "  </thead>\n",
              "  <tbody>\n",
              "    <tr>\n",
              "      <th>0</th>\n",
              "      <td>1255085476387663872</td>\n",
              "      <td>CNN Breaking News</td>\n",
              "      <td>cnnbrk</td>\n",
              "      <td>168</td>\n",
              "      <td>The Olympics could be canceled if the Covid-19...</td>\n",
              "      <td>2020-04-28 16:58:43.353931</td>\n",
              "      <td>2020-04-28 10:44:30.000000</td>\n",
              "      <td>304</td>\n",
              "      <td>[]</td>\n",
              "      <td>70319</td>\n",
              "      <td>NaN</td>\n",
              "      <td>Twitter Web App</td>\n",
              "      <td>None</td>\n",
              "      <td>None</td>\n",
              "      <td>None</td>\n",
              "    </tr>\n",
              "    <tr>\n",
              "      <th>1</th>\n",
              "      <td>1254887991631372289</td>\n",
              "      <td>CNN Breaking News</td>\n",
              "      <td>cnnbrk</td>\n",
              "      <td>196</td>\n",
              "      <td>Boeing says it will restart production of the ...</td>\n",
              "      <td>2020-04-28 16:58:43.353965</td>\n",
              "      <td>2020-04-27 21:39:46.000000</td>\n",
              "      <td>894</td>\n",
              "      <td>[]</td>\n",
              "      <td>70319</td>\n",
              "      <td>NaN</td>\n",
              "      <td>TweetDeck</td>\n",
              "      <td>None</td>\n",
              "      <td>None</td>\n",
              "      <td>None</td>\n",
              "    </tr>\n",
              "    <tr>\n",
              "      <th>2</th>\n",
              "      <td>1254871163320311816</td>\n",
              "      <td>CNN Breaking News</td>\n",
              "      <td>cnnbrk</td>\n",
              "      <td>484</td>\n",
              "      <td>Texas Gov. Greg Abbott will end stay-home orde...</td>\n",
              "      <td>2020-04-28 16:58:43.353975</td>\n",
              "      <td>2020-04-27 20:32:54.000000</td>\n",
              "      <td>1312</td>\n",
              "      <td>[]</td>\n",
              "      <td>70319</td>\n",
              "      <td>NaN</td>\n",
              "      <td>TweetDeck</td>\n",
              "      <td>None</td>\n",
              "      <td>None</td>\n",
              "      <td>None</td>\n",
              "    </tr>\n",
              "    <tr>\n",
              "      <th>3</th>\n",
              "      <td>1254853302023532544</td>\n",
              "      <td>CNN Breaking News</td>\n",
              "      <td>cnnbrk</td>\n",
              "      <td>154</td>\n",
              "      <td>The New York State Board of Elections canceled...</td>\n",
              "      <td>2020-04-28 16:58:43.353985</td>\n",
              "      <td>2020-04-27 19:21:55.000000</td>\n",
              "      <td>616</td>\n",
              "      <td>[]</td>\n",
              "      <td>70319</td>\n",
              "      <td>NaN</td>\n",
              "      <td>TweetDeck</td>\n",
              "      <td>None</td>\n",
              "      <td>None</td>\n",
              "      <td>None</td>\n",
              "    </tr>\n",
              "    <tr>\n",
              "      <th>4</th>\n",
              "      <td>1254814454312775686</td>\n",
              "      <td>CNN Breaking News</td>\n",
              "      <td>cnnbrk</td>\n",
              "      <td>1735</td>\n",
              "      <td>The US Defense Department officially releases ...</td>\n",
              "      <td>2020-04-28 16:58:43.354060</td>\n",
              "      <td>2020-04-27 16:47:33.000000</td>\n",
              "      <td>4568</td>\n",
              "      <td>[]</td>\n",
              "      <td>70319</td>\n",
              "      <td>NaN</td>\n",
              "      <td>TweetDeck</td>\n",
              "      <td>None</td>\n",
              "      <td>None</td>\n",
              "      <td>None</td>\n",
              "    </tr>\n",
              "    <tr>\n",
              "      <th>...</th>\n",
              "      <td>...</td>\n",
              "      <td>...</td>\n",
              "      <td>...</td>\n",
              "      <td>...</td>\n",
              "      <td>...</td>\n",
              "      <td>...</td>\n",
              "      <td>...</td>\n",
              "      <td>...</td>\n",
              "      <td>...</td>\n",
              "      <td>...</td>\n",
              "      <td>...</td>\n",
              "      <td>...</td>\n",
              "      <td>...</td>\n",
              "      <td>...</td>\n",
              "      <td>...</td>\n",
              "    </tr>\n",
              "    <tr>\n",
              "      <th>1995</th>\n",
              "      <td>1252457297948938240</td>\n",
              "      <td>ABC News</td>\n",
              "      <td>ABC</td>\n",
              "      <td>31</td>\n",
              "      <td>\"Every time the mail truck comes down the road...</td>\n",
              "      <td>2020-04-28 17:10:31.866930</td>\n",
              "      <td>2020-04-21 04:41:04.000000</td>\n",
              "      <td>169</td>\n",
              "      <td>[]</td>\n",
              "      <td>299251</td>\n",
              "      <td>NaN</td>\n",
              "      <td>SocialFlow</td>\n",
              "      <td>None</td>\n",
              "      <td>None</td>\n",
              "      <td>None</td>\n",
              "    </tr>\n",
              "    <tr>\n",
              "      <th>1996</th>\n",
              "      <td>1252456628114411520</td>\n",
              "      <td>ABC News</td>\n",
              "      <td>ABC</td>\n",
              "      <td>60</td>\n",
              "      <td>A nurse in Milan, Italy, wipes aways tears as ...</td>\n",
              "      <td>2020-04-28 17:10:31.866933</td>\n",
              "      <td>2020-04-21 04:38:24.000000</td>\n",
              "      <td>299</td>\n",
              "      <td>[]</td>\n",
              "      <td>299251</td>\n",
              "      <td>NaN</td>\n",
              "      <td>SocialFlow</td>\n",
              "      <td>None</td>\n",
              "      <td>None</td>\n",
              "      <td>None</td>\n",
              "    </tr>\n",
              "    <tr>\n",
              "      <th>1997</th>\n",
              "      <td>1252452765734928384</td>\n",
              "      <td>ABC News</td>\n",
              "      <td>ABC</td>\n",
              "      <td>241</td>\n",
              "      <td>Reports of accidental poisonings from cleaners...</td>\n",
              "      <td>2020-04-28 17:10:31.866936</td>\n",
              "      <td>2020-04-21 04:23:03.000000</td>\n",
              "      <td>413</td>\n",
              "      <td>[]</td>\n",
              "      <td>299251</td>\n",
              "      <td>NaN</td>\n",
              "      <td>SocialFlow</td>\n",
              "      <td>None</td>\n",
              "      <td>None</td>\n",
              "      <td>None</td>\n",
              "    </tr>\n",
              "    <tr>\n",
              "      <th>1998</th>\n",
              "      <td>1252451564389912576</td>\n",
              "      <td>ABC News</td>\n",
              "      <td>ABC</td>\n",
              "      <td>857</td>\n",
              "      <td>HOP TO IT: A kangaroo had the run of the city ...</td>\n",
              "      <td>2020-04-28 17:10:31.866940</td>\n",
              "      <td>2020-04-21 04:18:17.000000</td>\n",
              "      <td>3105</td>\n",
              "      <td>[]</td>\n",
              "      <td>299251</td>\n",
              "      <td>NaN</td>\n",
              "      <td>SocialFlow</td>\n",
              "      <td>None</td>\n",
              "      <td>None</td>\n",
              "      <td>None</td>\n",
              "    </tr>\n",
              "    <tr>\n",
              "      <th>1999</th>\n",
              "      <td>1252447238250541058</td>\n",
              "      <td>ABC News</td>\n",
              "      <td>ABC</td>\n",
              "      <td>296</td>\n",
              "      <td>Amid protests, Dr. Anthony Fauci warns reopeni...</td>\n",
              "      <td>2020-04-28 17:10:31.866943</td>\n",
              "      <td>2020-04-21 04:01:05.000000</td>\n",
              "      <td>753</td>\n",
              "      <td>[]</td>\n",
              "      <td>299251</td>\n",
              "      <td>NaN</td>\n",
              "      <td>SocialFlow</td>\n",
              "      <td>None</td>\n",
              "      <td>None</td>\n",
              "      <td>None</td>\n",
              "    </tr>\n",
              "  </tbody>\n",
              "</table>\n",
              "<p>2000 rows × 15 columns</p>\n",
              "</div>"
            ],
            "text/plain": [
              "                 tweet_id               name  ... quote_text  quote_screen_name\n",
              "0     1255085476387663872  CNN Breaking News  ...       None               None\n",
              "1     1254887991631372289  CNN Breaking News  ...       None               None\n",
              "2     1254871163320311816  CNN Breaking News  ...       None               None\n",
              "3     1254853302023532544  CNN Breaking News  ...       None               None\n",
              "4     1254814454312775686  CNN Breaking News  ...       None               None\n",
              "...                   ...                ...  ...        ...                ...\n",
              "1995  1252457297948938240           ABC News  ...       None               None\n",
              "1996  1252456628114411520           ABC News  ...       None               None\n",
              "1997  1252452765734928384           ABC News  ...       None               None\n",
              "1998  1252451564389912576           ABC News  ...       None               None\n",
              "1999  1252447238250541058           ABC News  ...       None               None\n",
              "\n",
              "[2000 rows x 15 columns]"
            ]
          },
          "metadata": {
            "tags": []
          },
          "execution_count": 11
        }
      ]
    },
    {
      "cell_type": "markdown",
      "metadata": {
        "id": "x3Z5Z5HdJ7X0",
        "colab_type": "text"
      },
      "source": [
        "# Preprocessing data\n"
      ]
    },
    {
      "cell_type": "markdown",
      "metadata": {
        "id": "5q7tLJ0tKBRf",
        "colab_type": "text"
      },
      "source": [
        "New column of full tweet text"
      ]
    },
    {
      "cell_type": "code",
      "metadata": {
        "id": "tg9j4sJ2mXt8",
        "colab_type": "code",
        "colab": {}
      },
      "source": [
        "full_text=[]\n",
        "for index,row in df.iterrows():\n",
        "  if row['retweet_text']!='None':\n",
        "    full_text.append(row['retweet_text'])\n",
        "  else:\n",
        "    full_text.append(row['text'])\n",
        "    "
      ],
      "execution_count": 0,
      "outputs": []
    },
    {
      "cell_type": "code",
      "metadata": {
        "id": "agyB9CzImdVx",
        "colab_type": "code",
        "colab": {}
      },
      "source": [
        "df['full_text']=full_text"
      ],
      "execution_count": 0,
      "outputs": []
    },
    {
      "cell_type": "markdown",
      "metadata": {
        "id": "HdHor0arKKLN",
        "colab_type": "text"
      },
      "source": [
        "Time Difference between tweet creation and tweet mining"
      ]
    },
    {
      "cell_type": "code",
      "metadata": {
        "id": "0cUffyZqmgyI",
        "colab_type": "code",
        "colab": {}
      },
      "source": [
        "df['created_date']=pd.to_datetime(df['created_at'])\n",
        "df['mined_date']=pd.to_datetime(df['mined_at'])\n",
        "df['difference']=df['mined_date'] - df['created_date']\n",
        "df['diff_seconds']=df['difference']/np.timedelta64(1,'s')\n",
        "df['diff_in_min']=df['diff_seconds']/60"
      ],
      "execution_count": 0,
      "outputs": []
    },
    {
      "cell_type": "markdown",
      "metadata": {
        "id": "4vXK0rmhKTGo",
        "colab_type": "text"
      },
      "source": [
        "Extract Article URL from tweet text"
      ]
    },
    {
      "cell_type": "code",
      "metadata": {
        "id": "RIfxdj2sm1SK",
        "colab_type": "code",
        "colab": {}
      },
      "source": [
        "url1=[]\n",
        "for index,row in df.iterrows():\n",
        "  a=re.search(\"(?P<url>https?://[^\\s]+)\", row['full_text'])\n",
        "  if a:\n",
        "    a=a.group(\"url\")\n",
        "  else:\n",
        "    a=np.NaN\n",
        "  url1.append(a)"
      ],
      "execution_count": 0,
      "outputs": []
    },
    {
      "cell_type": "code",
      "metadata": {
        "id": "rWa_cMeGnMRw",
        "colab_type": "code",
        "colab": {}
      },
      "source": [
        "df['URL']=url1"
      ],
      "execution_count": 0,
      "outputs": []
    },
    {
      "cell_type": "code",
      "metadata": {
        "id": "HVVL-bScnPIi",
        "colab_type": "code",
        "colab": {
          "base_uri": "https://localhost:8080/",
          "height": 225
        },
        "outputId": "f78b58bc-6229-4b1f-80c2-364fcb22c4ce"
      },
      "source": [
        "df['URL']"
      ],
      "execution_count": 19,
      "outputs": [
        {
          "output_type": "execute_result",
          "data": {
            "text/plain": [
              "0       https://t.co/v9G5DJlnn1\n",
              "1       https://t.co/uepjrf006a\n",
              "2       https://t.co/SyxKnMkrX2\n",
              "3       https://t.co/DiZpm2XO0e\n",
              "4       https://t.co/B5bWmzbpJE\n",
              "                 ...           \n",
              "1995    https://t.co/XlKsnpp0IX\n",
              "1996    https://t.co/AosClrJjn0\n",
              "1997    https://t.co/lvASGWIweJ\n",
              "1998    https://t.co/ngE6OmGShI\n",
              "1999    https://t.co/N2R5i9rLX4\n",
              "Name: URL, Length: 2000, dtype: object"
            ]
          },
          "metadata": {
            "tags": []
          },
          "execution_count": 19
        }
      ]
    },
    {
      "cell_type": "markdown",
      "metadata": {
        "id": "jW_5qaYtKb2C",
        "colab_type": "text"
      },
      "source": [
        "Summary and word count of article"
      ]
    },
    {
      "cell_type": "code",
      "metadata": {
        "id": "60wlXGbTnSIv",
        "colab_type": "code",
        "colab": {}
      },
      "source": [
        "summary1=[]\n",
        "word_count1=[]\n",
        "for index in range(len(df)):\n",
        "  #print(index)\n",
        "  try:\n",
        "    article=Article(df['URL'][index],language=\"en\")\n",
        "    article.download()\n",
        "    article.parse()\n",
        "    article.nlp()\n",
        "    #text.append(article.text)\n",
        "    summary1.append(article.summary)\n",
        "    word_count1.append(len(article.text.split()))\n",
        "  except:\n",
        "    print('exception\\n')\n",
        "    #text.append(np.NaN)\n",
        "    summary1.append(np.NaN)\n",
        "    word_count1.append(np.NaN)\n"
      ],
      "execution_count": 0,
      "outputs": []
    },
    {
      "cell_type": "code",
      "metadata": {
        "id": "DflqKd2-nkKg",
        "colab_type": "code",
        "colab": {
          "base_uri": "https://localhost:8080/",
          "height": 34
        },
        "outputId": "5d27caa2-aea3-4d1e-f03e-fe3833fc415d"
      },
      "source": [
        "len(summary1)"
      ],
      "execution_count": 21,
      "outputs": [
        {
          "output_type": "execute_result",
          "data": {
            "text/plain": [
              "2000"
            ]
          },
          "metadata": {
            "tags": []
          },
          "execution_count": 21
        }
      ]
    },
    {
      "cell_type": "code",
      "metadata": {
        "id": "MmEYznFdwXrv",
        "colab_type": "code",
        "colab": {}
      },
      "source": [
        "df['Summary']=summary1\n",
        "df['Word_count']=word_count1"
      ],
      "execution_count": 0,
      "outputs": []
    },
    {
      "cell_type": "code",
      "metadata": {
        "id": "kj0TWEurKltU",
        "colab_type": "code",
        "colab": {
          "base_uri": "https://localhost:8080/",
          "height": 34
        },
        "outputId": "6900be96-a355-43b4-8342-d7444462f90b"
      },
      "source": [
        "df['full_text'][0]"
      ],
      "execution_count": 159,
      "outputs": [
        {
          "output_type": "execute_result",
          "data": {
            "text/plain": [
              "'The Olympics could be canceled if the Covid-19 pandemic continues into next year, the Tokyo 2020 president says\\nhttps://t.co/v9G5DJlnn1 https://t.co/zBZOAaPP1B'"
            ]
          },
          "metadata": {
            "tags": []
          },
          "execution_count": 159
        }
      ]
    },
    {
      "cell_type": "code",
      "metadata": {
        "id": "dX8LgOWMKsWL",
        "colab_type": "code",
        "colab": {
          "base_uri": "https://localhost:8080/",
          "height": 54
        },
        "outputId": "8b17e1d0-e11c-4611-898d-2998ef1b5fba"
      },
      "source": [
        "df['Summary'][0]"
      ],
      "execution_count": 160,
      "outputs": [
        {
          "output_type": "execute_result",
          "data": {
            "text/plain": [
              "'(CNN) The Olympics could be canceled if the Covid-19 pandemic continues into next year, according to the Tokyo 2020 president.\\nThe Games are scheduled to start from July 23, 2021, having already been postponed a year amid the virus outbreak.\\nThis would be the strongest statement on canceling the Olympics and Paralympics from organizers, who have routinely said they are focusing on plans to hold the Games.\\nAsked in an interview with Nikkan Sports about another postponement of the event if the virus is ongoing, Tokyo 2020 President Yoshiro Mori said: \"No.\\n\"The Olympics were canceled in the past for problems like war.'"
            ]
          },
          "metadata": {
            "tags": []
          },
          "execution_count": 160
        }
      ]
    },
    {
      "cell_type": "code",
      "metadata": {
        "id": "FgG9JNE0Kxly",
        "colab_type": "code",
        "colab": {
          "base_uri": "https://localhost:8080/",
          "height": 34
        },
        "outputId": "0fb56fe9-d5b4-4067-e09d-fd0cb121e12d"
      },
      "source": [
        "df['Word_count'][0]"
      ],
      "execution_count": 161,
      "outputs": [
        {
          "output_type": "execute_result",
          "data": {
            "text/plain": [
              "118.0"
            ]
          },
          "metadata": {
            "tags": []
          },
          "execution_count": 161
        }
      ]
    },
    {
      "cell_type": "markdown",
      "metadata": {
        "id": "1bS-9x_eK9cg",
        "colab_type": "text"
      },
      "source": [
        "Sentiment Analysis of news article to find its emotional polarity.\n",
        "(Between -1 to 1)"
      ]
    },
    {
      "cell_type": "code",
      "metadata": {
        "id": "TsbsL3M4yUDv",
        "colab_type": "code",
        "colab": {}
      },
      "source": [
        "polarity=[]\n",
        "polar=[]\n",
        "sia=SentimentIntensityAnalyzer()\n",
        "for index in range(len(df)):\n",
        "  #print(index)\n",
        "  try:\n",
        "    a=df['Summary'][index]\n",
        "    b=sia.polarity_scores(a)['compound']\n",
        "    polarity.append(b)\n",
        "    if b<0:\n",
        "      polar.append(0)\n",
        "    else:\n",
        "      polar.append(1)\n",
        "  except:\n",
        "    print('except')\n",
        "    polarity.append(0)\n",
        "    polar.append(0)"
      ],
      "execution_count": 0,
      "outputs": []
    },
    {
      "cell_type": "code",
      "metadata": {
        "id": "9vA1R0u8yhA2",
        "colab_type": "code",
        "colab": {}
      },
      "source": [
        "df['Polarity']=polarity\n",
        "df['Sentiment']=polar"
      ],
      "execution_count": 0,
      "outputs": []
    },
    {
      "cell_type": "code",
      "metadata": {
        "id": "bUvqpX60K3QN",
        "colab_type": "code",
        "colab": {
          "base_uri": "https://localhost:8080/",
          "height": 34
        },
        "outputId": "6b4d2d7c-acbf-4212-de4e-56f8faa94976"
      },
      "source": [
        "df['Polarity'][0]"
      ],
      "execution_count": 162,
      "outputs": [
        {
          "output_type": "execute_result",
          "data": {
            "text/plain": [
              "-0.4588"
            ]
          },
          "metadata": {
            "tags": []
          },
          "execution_count": 162
        }
      ]
    },
    {
      "cell_type": "markdown",
      "metadata": {
        "id": "j0_cte4aLTpb",
        "colab_type": "text"
      },
      "source": [
        "Classify Polarity into 5 Classes"
      ]
    },
    {
      "cell_type": "code",
      "metadata": {
        "id": "6h9BzxyJx61H",
        "colab_type": "code",
        "colab": {}
      },
      "source": [
        "\n",
        "df['senti']=np.NaN\n",
        "df['senti'][df['Polarity']<-0.5]=-2\n",
        "df['senti'][(df['Polarity']>=-0.5) & (df['Polarity']<0)]=-1\n",
        "df['senti'][(df['Polarity']>0) &  (df['Polarity']<=0.5)]=1\n",
        "df['senti'][(df['Polarity']>0.5) & (df['Polarity']<=1)]=2\n",
        "df['senti'][df['Polarity']==0]=0"
      ],
      "execution_count": 0,
      "outputs": []
    },
    {
      "cell_type": "code",
      "metadata": {
        "id": "QcflobJTzABX",
        "colab_type": "code",
        "colab": {}
      },
      "source": [
        "a1=df['retweet_count']/df['diff_in_min']\n",
        "df['viral']=a1"
      ],
      "execution_count": 0,
      "outputs": []
    },
    {
      "cell_type": "code",
      "metadata": {
        "id": "RxxnHdQ8wi4s",
        "colab_type": "code",
        "colab": {
          "base_uri": "https://localhost:8080/",
          "height": 626
        },
        "outputId": "a60eba99-c6d2-4e8e-a98c-4bfe42b370c1"
      },
      "source": [
        "df.head()"
      ],
      "execution_count": 45,
      "outputs": [
        {
          "output_type": "execute_result",
          "data": {
            "text/html": [
              "<div>\n",
              "<style scoped>\n",
              "    .dataframe tbody tr th:only-of-type {\n",
              "        vertical-align: middle;\n",
              "    }\n",
              "\n",
              "    .dataframe tbody tr th {\n",
              "        vertical-align: top;\n",
              "    }\n",
              "\n",
              "    .dataframe thead th {\n",
              "        text-align: right;\n",
              "    }\n",
              "</style>\n",
              "<table border=\"1\" class=\"dataframe\">\n",
              "  <thead>\n",
              "    <tr style=\"text-align: right;\">\n",
              "      <th></th>\n",
              "      <th>tweet_id</th>\n",
              "      <th>name</th>\n",
              "      <th>screen_name</th>\n",
              "      <th>retweet_count</th>\n",
              "      <th>text</th>\n",
              "      <th>mined_at</th>\n",
              "      <th>created_at</th>\n",
              "      <th>favourite_count</th>\n",
              "      <th>hashtags</th>\n",
              "      <th>status_count</th>\n",
              "      <th>location</th>\n",
              "      <th>source_device</th>\n",
              "      <th>retweet_text</th>\n",
              "      <th>quote_text</th>\n",
              "      <th>quote_screen_name</th>\n",
              "      <th>full_text</th>\n",
              "      <th>created_date</th>\n",
              "      <th>mined_date</th>\n",
              "      <th>difference</th>\n",
              "      <th>diff_seconds</th>\n",
              "      <th>diff_in_min</th>\n",
              "      <th>URL</th>\n",
              "      <th>Summary</th>\n",
              "      <th>Word_count</th>\n",
              "      <th>senti</th>\n",
              "      <th>Polarity</th>\n",
              "      <th>Sentiment</th>\n",
              "      <th>viral</th>\n",
              "    </tr>\n",
              "  </thead>\n",
              "  <tbody>\n",
              "    <tr>\n",
              "      <th>0</th>\n",
              "      <td>1255085476387663872</td>\n",
              "      <td>CNN Breaking News</td>\n",
              "      <td>cnnbrk</td>\n",
              "      <td>168</td>\n",
              "      <td>The Olympics could be canceled if the Covid-19...</td>\n",
              "      <td>2020-04-28 16:58:43.353931</td>\n",
              "      <td>2020-04-28 10:44:30.000000</td>\n",
              "      <td>304</td>\n",
              "      <td>[]</td>\n",
              "      <td>70319</td>\n",
              "      <td>NaN</td>\n",
              "      <td>Twitter Web App</td>\n",
              "      <td>None</td>\n",
              "      <td>None</td>\n",
              "      <td>None</td>\n",
              "      <td>The Olympics could be canceled if the Covid-19...</td>\n",
              "      <td>2020-04-28 10:44:30</td>\n",
              "      <td>2020-04-28 16:58:43.353931</td>\n",
              "      <td>0 days 06:14:13.353931</td>\n",
              "      <td>22453.353931</td>\n",
              "      <td>374.222566</td>\n",
              "      <td>https://t.co/v9G5DJlnn1</td>\n",
              "      <td>(CNN) The Olympics could be canceled if the Co...</td>\n",
              "      <td>118.0</td>\n",
              "      <td>-1.0</td>\n",
              "      <td>-0.4588</td>\n",
              "      <td>0</td>\n",
              "      <td>0.448931</td>\n",
              "    </tr>\n",
              "    <tr>\n",
              "      <th>1</th>\n",
              "      <td>1254887991631372289</td>\n",
              "      <td>CNN Breaking News</td>\n",
              "      <td>cnnbrk</td>\n",
              "      <td>196</td>\n",
              "      <td>Boeing says it will restart production of the ...</td>\n",
              "      <td>2020-04-28 16:58:43.353965</td>\n",
              "      <td>2020-04-27 21:39:46.000000</td>\n",
              "      <td>894</td>\n",
              "      <td>[]</td>\n",
              "      <td>70319</td>\n",
              "      <td>NaN</td>\n",
              "      <td>TweetDeck</td>\n",
              "      <td>None</td>\n",
              "      <td>None</td>\n",
              "      <td>None</td>\n",
              "      <td>Boeing says it will restart production of the ...</td>\n",
              "      <td>2020-04-27 21:39:46</td>\n",
              "      <td>2020-04-28 16:58:43.353965</td>\n",
              "      <td>0 days 19:18:57.353965</td>\n",
              "      <td>69537.353965</td>\n",
              "      <td>1158.955899</td>\n",
              "      <td>https://t.co/uepjrf006a</td>\n",
              "      <td>Boeing has rolled out the first 787-10 Dreamli...</td>\n",
              "      <td>179.0</td>\n",
              "      <td>0.0</td>\n",
              "      <td>0.0000</td>\n",
              "      <td>1</td>\n",
              "      <td>0.169118</td>\n",
              "    </tr>\n",
              "    <tr>\n",
              "      <th>2</th>\n",
              "      <td>1254871163320311816</td>\n",
              "      <td>CNN Breaking News</td>\n",
              "      <td>cnnbrk</td>\n",
              "      <td>484</td>\n",
              "      <td>Texas Gov. Greg Abbott will end stay-home orde...</td>\n",
              "      <td>2020-04-28 16:58:43.353975</td>\n",
              "      <td>2020-04-27 20:32:54.000000</td>\n",
              "      <td>1312</td>\n",
              "      <td>[]</td>\n",
              "      <td>70319</td>\n",
              "      <td>NaN</td>\n",
              "      <td>TweetDeck</td>\n",
              "      <td>None</td>\n",
              "      <td>None</td>\n",
              "      <td>None</td>\n",
              "      <td>Texas Gov. Greg Abbott will end stay-home orde...</td>\n",
              "      <td>2020-04-27 20:32:54</td>\n",
              "      <td>2020-04-28 16:58:43.353975</td>\n",
              "      <td>0 days 20:25:49.353975</td>\n",
              "      <td>73549.353975</td>\n",
              "      <td>1225.822566</td>\n",
              "      <td>https://t.co/SyxKnMkrX2</td>\n",
              "      <td>Greg Abbott said Monday he will allow his stay...</td>\n",
              "      <td>178.0</td>\n",
              "      <td>2.0</td>\n",
              "      <td>0.9072</td>\n",
              "      <td>1</td>\n",
              "      <td>0.394837</td>\n",
              "    </tr>\n",
              "    <tr>\n",
              "      <th>3</th>\n",
              "      <td>1254853302023532544</td>\n",
              "      <td>CNN Breaking News</td>\n",
              "      <td>cnnbrk</td>\n",
              "      <td>154</td>\n",
              "      <td>The New York State Board of Elections canceled...</td>\n",
              "      <td>2020-04-28 16:58:43.353985</td>\n",
              "      <td>2020-04-27 19:21:55.000000</td>\n",
              "      <td>616</td>\n",
              "      <td>[]</td>\n",
              "      <td>70319</td>\n",
              "      <td>NaN</td>\n",
              "      <td>TweetDeck</td>\n",
              "      <td>None</td>\n",
              "      <td>None</td>\n",
              "      <td>None</td>\n",
              "      <td>The New York State Board of Elections canceled...</td>\n",
              "      <td>2020-04-27 19:21:55</td>\n",
              "      <td>2020-04-28 16:58:43.353985</td>\n",
              "      <td>0 days 21:36:48.353985</td>\n",
              "      <td>77808.353985</td>\n",
              "      <td>1296.805900</td>\n",
              "      <td>https://t.co/DiZpm2XO0e</td>\n",
              "      <td>Angela Weiss/AFP/Getty ImagesThe New York Stat...</td>\n",
              "      <td>357.0</td>\n",
              "      <td>1.0</td>\n",
              "      <td>0.3182</td>\n",
              "      <td>1</td>\n",
              "      <td>0.118753</td>\n",
              "    </tr>\n",
              "    <tr>\n",
              "      <th>4</th>\n",
              "      <td>1254814454312775686</td>\n",
              "      <td>CNN Breaking News</td>\n",
              "      <td>cnnbrk</td>\n",
              "      <td>1735</td>\n",
              "      <td>The US Defense Department officially releases ...</td>\n",
              "      <td>2020-04-28 16:58:43.354060</td>\n",
              "      <td>2020-04-27 16:47:33.000000</td>\n",
              "      <td>4568</td>\n",
              "      <td>[]</td>\n",
              "      <td>70319</td>\n",
              "      <td>NaN</td>\n",
              "      <td>TweetDeck</td>\n",
              "      <td>None</td>\n",
              "      <td>None</td>\n",
              "      <td>None</td>\n",
              "      <td>The US Defense Department officially releases ...</td>\n",
              "      <td>2020-04-27 16:47:33</td>\n",
              "      <td>2020-04-28 16:58:43.354060</td>\n",
              "      <td>1 days 00:11:10.354060</td>\n",
              "      <td>87070.354060</td>\n",
              "      <td>1451.172568</td>\n",
              "      <td>https://t.co/B5bWmzbpJE</td>\n",
              "      <td>Washington (CNN) The Pentagon has officially r...</td>\n",
              "      <td>192.0</td>\n",
              "      <td>0.0</td>\n",
              "      <td>0.0000</td>\n",
              "      <td>1</td>\n",
              "      <td>1.195585</td>\n",
              "    </tr>\n",
              "  </tbody>\n",
              "</table>\n",
              "</div>"
            ],
            "text/plain": [
              "              tweet_id               name  ... Sentiment     viral\n",
              "0  1255085476387663872  CNN Breaking News  ...         0  0.448931\n",
              "1  1254887991631372289  CNN Breaking News  ...         1  0.169118\n",
              "2  1254871163320311816  CNN Breaking News  ...         1  0.394837\n",
              "3  1254853302023532544  CNN Breaking News  ...         1  0.118753\n",
              "4  1254814454312775686  CNN Breaking News  ...         1  1.195585\n",
              "\n",
              "[5 rows x 28 columns]"
            ]
          },
          "metadata": {
            "tags": []
          },
          "execution_count": 45
        }
      ]
    },
    {
      "cell_type": "code",
      "metadata": {
        "id": "s4WgElcHzoxK",
        "colab_type": "code",
        "colab": {
          "base_uri": "https://localhost:8080/",
          "height": 34
        },
        "outputId": "bc8db6d9-c6ef-4d8a-821d-346a7c564d9a"
      },
      "source": [
        "df.shape\n"
      ],
      "execution_count": 63,
      "outputs": [
        {
          "output_type": "execute_result",
          "data": {
            "text/plain": [
              "(3944, 16)"
            ]
          },
          "metadata": {
            "tags": []
          },
          "execution_count": 63
        }
      ]
    },
    {
      "cell_type": "code",
      "metadata": {
        "id": "BCxGfuM_1jMj",
        "colab_type": "code",
        "colab": {}
      },
      "source": [
        "df.reset_index(inplace=True)\n"
      ],
      "execution_count": 0,
      "outputs": []
    },
    {
      "cell_type": "code",
      "metadata": {
        "id": "7TQTyRDV1sca",
        "colab_type": "code",
        "colab": {}
      },
      "source": [
        "df.drop(['level_0'],axis=1,inplace=True)"
      ],
      "execution_count": 0,
      "outputs": []
    },
    {
      "cell_type": "code",
      "metadata": {
        "id": "gPO1lKeT1_H9",
        "colab_type": "code",
        "colab": {
          "base_uri": "https://localhost:8080/",
          "height": 1000
        },
        "outputId": "627d5efc-d451-42cd-a5f3-b19145d53ecf"
      },
      "source": [
        "df"
      ],
      "execution_count": 73,
      "outputs": [
        {
          "output_type": "execute_result",
          "data": {
            "text/html": [
              "<div>\n",
              "<style scoped>\n",
              "    .dataframe tbody tr th:only-of-type {\n",
              "        vertical-align: middle;\n",
              "    }\n",
              "\n",
              "    .dataframe tbody tr th {\n",
              "        vertical-align: top;\n",
              "    }\n",
              "\n",
              "    .dataframe thead th {\n",
              "        text-align: right;\n",
              "    }\n",
              "</style>\n",
              "<table border=\"1\" class=\"dataframe\">\n",
              "  <thead>\n",
              "    <tr style=\"text-align: right;\">\n",
              "      <th></th>\n",
              "      <th>screen_name</th>\n",
              "      <th>retweet_count</th>\n",
              "      <th>full_text</th>\n",
              "      <th>favourite_count</th>\n",
              "      <th>URL</th>\n",
              "      <th>Summary</th>\n",
              "      <th>Word_count</th>\n",
              "      <th>Polarity</th>\n",
              "      <th>Sentiment</th>\n",
              "      <th>created_date</th>\n",
              "      <th>mined_date</th>\n",
              "      <th>difference</th>\n",
              "      <th>viral</th>\n",
              "      <th>diff_in_min</th>\n",
              "      <th>diff_seconds</th>\n",
              "      <th>senti</th>\n",
              "    </tr>\n",
              "  </thead>\n",
              "  <tbody>\n",
              "    <tr>\n",
              "      <th>0</th>\n",
              "      <td>cnnbrk</td>\n",
              "      <td>168</td>\n",
              "      <td>The Olympics could be canceled if the Covid-19...</td>\n",
              "      <td>304</td>\n",
              "      <td>https://t.co/v9G5DJlnn1</td>\n",
              "      <td>(CNN) The Olympics could be canceled if the Co...</td>\n",
              "      <td>118.0</td>\n",
              "      <td>-0.4588</td>\n",
              "      <td>0</td>\n",
              "      <td>2020-04-28 10:44:30</td>\n",
              "      <td>2020-04-28 16:58:43.353931</td>\n",
              "      <td>0 days 06:14:13.353931</td>\n",
              "      <td>0.448931</td>\n",
              "      <td>374.222566</td>\n",
              "      <td>2.245335e+04</td>\n",
              "      <td>-1.0</td>\n",
              "    </tr>\n",
              "    <tr>\n",
              "      <th>1</th>\n",
              "      <td>cnnbrk</td>\n",
              "      <td>196</td>\n",
              "      <td>Boeing says it will restart production of the ...</td>\n",
              "      <td>894</td>\n",
              "      <td>https://t.co/uepjrf006a</td>\n",
              "      <td>Boeing has rolled out the first 787-10 Dreamli...</td>\n",
              "      <td>179.0</td>\n",
              "      <td>0.0000</td>\n",
              "      <td>1</td>\n",
              "      <td>2020-04-27 21:39:46</td>\n",
              "      <td>2020-04-28 16:58:43.353965</td>\n",
              "      <td>0 days 19:18:57.353965</td>\n",
              "      <td>0.169118</td>\n",
              "      <td>1158.955899</td>\n",
              "      <td>6.953735e+04</td>\n",
              "      <td>0.0</td>\n",
              "    </tr>\n",
              "    <tr>\n",
              "      <th>2</th>\n",
              "      <td>cnnbrk</td>\n",
              "      <td>484</td>\n",
              "      <td>Texas Gov. Greg Abbott will end stay-home orde...</td>\n",
              "      <td>1312</td>\n",
              "      <td>https://t.co/SyxKnMkrX2</td>\n",
              "      <td>Greg Abbott said Monday he will allow his stay...</td>\n",
              "      <td>178.0</td>\n",
              "      <td>0.9072</td>\n",
              "      <td>1</td>\n",
              "      <td>2020-04-27 20:32:54</td>\n",
              "      <td>2020-04-28 16:58:43.353975</td>\n",
              "      <td>0 days 20:25:49.353975</td>\n",
              "      <td>0.394837</td>\n",
              "      <td>1225.822566</td>\n",
              "      <td>7.354935e+04</td>\n",
              "      <td>2.0</td>\n",
              "    </tr>\n",
              "    <tr>\n",
              "      <th>3</th>\n",
              "      <td>cnnbrk</td>\n",
              "      <td>154</td>\n",
              "      <td>The New York State Board of Elections canceled...</td>\n",
              "      <td>616</td>\n",
              "      <td>https://t.co/DiZpm2XO0e</td>\n",
              "      <td>Angela Weiss/AFP/Getty ImagesThe New York Stat...</td>\n",
              "      <td>357.0</td>\n",
              "      <td>0.3182</td>\n",
              "      <td>1</td>\n",
              "      <td>2020-04-27 19:21:55</td>\n",
              "      <td>2020-04-28 16:58:43.353985</td>\n",
              "      <td>0 days 21:36:48.353985</td>\n",
              "      <td>0.118753</td>\n",
              "      <td>1296.805900</td>\n",
              "      <td>7.780835e+04</td>\n",
              "      <td>1.0</td>\n",
              "    </tr>\n",
              "    <tr>\n",
              "      <th>4</th>\n",
              "      <td>cnnbrk</td>\n",
              "      <td>1735</td>\n",
              "      <td>The US Defense Department officially releases ...</td>\n",
              "      <td>4568</td>\n",
              "      <td>https://t.co/B5bWmzbpJE</td>\n",
              "      <td>Washington (CNN) The Pentagon has officially r...</td>\n",
              "      <td>192.0</td>\n",
              "      <td>0.0000</td>\n",
              "      <td>1</td>\n",
              "      <td>2020-04-27 16:47:33</td>\n",
              "      <td>2020-04-28 16:58:43.354060</td>\n",
              "      <td>1 days 00:11:10.354060</td>\n",
              "      <td>1.195585</td>\n",
              "      <td>1451.172568</td>\n",
              "      <td>8.707035e+04</td>\n",
              "      <td>0.0</td>\n",
              "    </tr>\n",
              "    <tr>\n",
              "      <th>...</th>\n",
              "      <td>...</td>\n",
              "      <td>...</td>\n",
              "      <td>...</td>\n",
              "      <td>...</td>\n",
              "      <td>...</td>\n",
              "      <td>...</td>\n",
              "      <td>...</td>\n",
              "      <td>...</td>\n",
              "      <td>...</td>\n",
              "      <td>...</td>\n",
              "      <td>...</td>\n",
              "      <td>...</td>\n",
              "      <td>...</td>\n",
              "      <td>...</td>\n",
              "      <td>...</td>\n",
              "      <td>...</td>\n",
              "    </tr>\n",
              "    <tr>\n",
              "      <th>3939</th>\n",
              "      <td>BBCWorld</td>\n",
              "      <td>788</td>\n",
              "      <td>Five shot dead in Russia for 'talking loudly' ...</td>\n",
              "      <td>1840</td>\n",
              "      <td>https://t.co/JgxAaBHdQ3</td>\n",
              "      <td>Image copyright Getty Images Image caption Pol...</td>\n",
              "      <td>140.0</td>\n",
              "      <td>-0.9524</td>\n",
              "      <td>0</td>\n",
              "      <td>2020-04-05 21:02:18.000000</td>\n",
              "      <td>2020-04-28 00:01:35.818286</td>\n",
              "      <td>22 days 02:59:17.818286000</td>\n",
              "      <td>0.024734</td>\n",
              "      <td>31859.296971</td>\n",
              "      <td>1.911558e+06</td>\n",
              "      <td>-2.0</td>\n",
              "    </tr>\n",
              "    <tr>\n",
              "      <th>3940</th>\n",
              "      <td>BBCWorld</td>\n",
              "      <td>313</td>\n",
              "      <td>Somali outrage at rape of girls aged three and...</td>\n",
              "      <td>794</td>\n",
              "      <td>https://t.co/ZO7Vz9W7X6</td>\n",
              "      <td>Image copyright AFP Image caption Reports of r...</td>\n",
              "      <td>195.0</td>\n",
              "      <td>-0.9766</td>\n",
              "      <td>0</td>\n",
              "      <td>2020-04-05 20:39:49.000000</td>\n",
              "      <td>2020-04-28 00:01:35.818293</td>\n",
              "      <td>22 days 03:21:46.818293000</td>\n",
              "      <td>0.009818</td>\n",
              "      <td>31881.780305</td>\n",
              "      <td>1.912907e+06</td>\n",
              "      <td>-2.0</td>\n",
              "    </tr>\n",
              "    <tr>\n",
              "      <th>3941</th>\n",
              "      <td>BBCWorld</td>\n",
              "      <td>260</td>\n",
              "      <td>Malawi president and government ministers take...</td>\n",
              "      <td>1124</td>\n",
              "      <td>https://t.co/2t9EUuY0Pg</td>\n",
              "      <td>Image copyright Reuters Image caption Peter Mu...</td>\n",
              "      <td>301.0</td>\n",
              "      <td>-0.6652</td>\n",
              "      <td>0</td>\n",
              "      <td>2020-04-05 20:30:23.000000</td>\n",
              "      <td>2020-04-28 00:01:35.818300</td>\n",
              "      <td>22 days 03:31:12.818300000</td>\n",
              "      <td>0.008153</td>\n",
              "      <td>31891.213638</td>\n",
              "      <td>1.913473e+06</td>\n",
              "      <td>-2.0</td>\n",
              "    </tr>\n",
              "    <tr>\n",
              "      <th>3942</th>\n",
              "      <td>BBCWorld</td>\n",
              "      <td>247</td>\n",
              "      <td>Another 674 people have died in Spain in the l...</td>\n",
              "      <td>688</td>\n",
              "      <td>https://t.co/y6K6Qm6RAw</td>\n",
              "      <td>“In the years to come”, she hopes everyone wil...</td>\n",
              "      <td>317.0</td>\n",
              "      <td>0.7306</td>\n",
              "      <td>1</td>\n",
              "      <td>2020-04-05 20:24:50.000000</td>\n",
              "      <td>2020-04-28 00:01:35.818304</td>\n",
              "      <td>22 days 03:36:45.818304000</td>\n",
              "      <td>0.007744</td>\n",
              "      <td>31896.763638</td>\n",
              "      <td>1.913806e+06</td>\n",
              "      <td>2.0</td>\n",
              "    </tr>\n",
              "    <tr>\n",
              "      <th>3943</th>\n",
              "      <td>BBCWorld</td>\n",
              "      <td>107</td>\n",
              "      <td>Kobe Bryant is being posthumously inducted int...</td>\n",
              "      <td>0</td>\n",
              "      <td>https://t.co/EKQuM6dtZs</td>\n",
              "      <td>Kobe Bryant played for the Los Angeles Lakers ...</td>\n",
              "      <td>206.0</td>\n",
              "      <td>0.9766</td>\n",
              "      <td>1</td>\n",
              "      <td>2020-04-05 20:07:52.000000</td>\n",
              "      <td>2020-04-28 00:01:35.818315</td>\n",
              "      <td>22 days 03:53:43.818315000</td>\n",
              "      <td>0.003353</td>\n",
              "      <td>31913.730305</td>\n",
              "      <td>1.914824e+06</td>\n",
              "      <td>2.0</td>\n",
              "    </tr>\n",
              "  </tbody>\n",
              "</table>\n",
              "<p>3944 rows × 16 columns</p>\n",
              "</div>"
            ],
            "text/plain": [
              "     screen_name  retweet_count  ...  diff_seconds  senti\n",
              "0         cnnbrk            168  ...  2.245335e+04   -1.0\n",
              "1         cnnbrk            196  ...  6.953735e+04    0.0\n",
              "2         cnnbrk            484  ...  7.354935e+04    2.0\n",
              "3         cnnbrk            154  ...  7.780835e+04    1.0\n",
              "4         cnnbrk           1735  ...  8.707035e+04    0.0\n",
              "...          ...            ...  ...           ...    ...\n",
              "3939    BBCWorld            788  ...  1.911558e+06   -2.0\n",
              "3940    BBCWorld            313  ...  1.912907e+06   -2.0\n",
              "3941    BBCWorld            260  ...  1.913473e+06   -2.0\n",
              "3942    BBCWorld            247  ...  1.913806e+06    2.0\n",
              "3943    BBCWorld            107  ...  1.914824e+06    2.0\n",
              "\n",
              "[3944 rows x 16 columns]"
            ]
          },
          "metadata": {
            "tags": []
          },
          "execution_count": 73
        }
      ]
    },
    {
      "cell_type": "markdown",
      "metadata": {
        "id": "zjeGJAfB0MEs",
        "colab_type": "text"
      },
      "source": [
        "Outlier Detection and processing\n"
      ]
    },
    {
      "cell_type": "code",
      "metadata": {
        "id": "G4tarZvhzqQN",
        "colab_type": "code",
        "colab": {
          "base_uri": "https://localhost:8080/",
          "height": 297
        },
        "outputId": "39fd6ba2-306d-4a6e-a195-a161a734b5af"
      },
      "source": [
        "sns.boxplot(x=df['Word_count'])"
      ],
      "execution_count": 74,
      "outputs": [
        {
          "output_type": "execute_result",
          "data": {
            "text/plain": [
              "<matplotlib.axes._subplots.AxesSubplot at 0x7f3e02853828>"
            ]
          },
          "metadata": {
            "tags": []
          },
          "execution_count": 74
        },
        {
          "output_type": "display_data",
          "data": {
            "image/png": "[encoded data removed]",
            "text/plain": [
              "<Figure size 432x288 with 1 Axes>"
            ]
          },
          "metadata": {
            "tags": [],
            "needs_background": "light"
          }
        }
      ]
    },
    {
      "cell_type": "code",
      "metadata": {
        "id": "Ky6fJ6hq2Y8o",
        "colab_type": "code",
        "colab": {
          "base_uri": "https://localhost:8080/",
          "height": 497
        },
        "outputId": "628d4342-4ea6-4b79-ea0c-dbdf2febad7d"
      },
      "source": [
        "fig, ax = plt.subplots(figsize=(16,8))\n",
        "ax.scatter(df1['Word_count'],df1['Polarity'])\n",
        "ax.set_xlabel('WC')\n",
        "ax.set_ylabel('Polarity')\n",
        "plt.show()\n",
        "\n"
      ],
      "execution_count": 80,
      "outputs": [
        {
          "output_type": "display_data",
          "data": {
            "image/png": "[encoded data removed]",
            "text/plain": [
              "<Figure size 1152x576 with 1 Axes>"
            ]
          },
          "metadata": {
            "tags": [],
            "needs_background": "light"
          }
        }
      ]
    },
    {
      "cell_type": "code",
      "metadata": {
        "id": "na_uc6Dwz3i3",
        "colab_type": "code",
        "colab": {
          "base_uri": "https://localhost:8080/",
          "height": 52
        },
        "outputId": "2e99698b-c5db-47cd-8c08-8984362e5626"
      },
      "source": [
        "df['Word_count'].mode()"
      ],
      "execution_count": 77,
      "outputs": [
        {
          "output_type": "execute_result",
          "data": {
            "text/plain": [
              "0    39.0\n",
              "dtype: float64"
            ]
          },
          "metadata": {
            "tags": []
          },
          "execution_count": 77
        }
      ]
    },
    {
      "cell_type": "code",
      "metadata": {
        "id": "RkZZrLhw0XOh",
        "colab_type": "code",
        "colab": {}
      },
      "source": [
        "Q1 = df['Word_count'].quantile(0.25)\n",
        "Q3 = df['Word_count'].quantile(0.75)\n",
        "IQR = Q3 - Q1\n",
        "print(Q3)\n",
        "#456"
      ],
      "execution_count": 0,
      "outputs": []
    },
    {
      "cell_type": "code",
      "metadata": {
        "id": "Tzvjl5yC4BT8",
        "colab_type": "code",
        "colab": {}
      },
      "source": [
        "df=df[df.Word_count<=500]"
      ],
      "execution_count": 0,
      "outputs": []
    },
    {
      "cell_type": "code",
      "metadata": {
        "id": "V2jmQvFy6CSj",
        "colab_type": "code",
        "colab": {
          "base_uri": "https://localhost:8080/",
          "height": 34
        },
        "outputId": "dffd34f3-b4bd-4bbf-b108-8cec4e633abb"
      },
      "source": [
        "df.shape"
      ],
      "execution_count": 97,
      "outputs": [
        {
          "output_type": "execute_result",
          "data": {
            "text/plain": [
              "(3047, 16)"
            ]
          },
          "metadata": {
            "tags": []
          },
          "execution_count": 97
        }
      ]
    },
    {
      "cell_type": "code",
      "metadata": {
        "id": "Ab-Ulwmu6JJW",
        "colab_type": "code",
        "colab": {
          "base_uri": "https://localhost:8080/",
          "height": 297
        },
        "outputId": "ea6b2b0e-fc23-4dcb-e538-3bebfd0aaa30"
      },
      "source": [
        "sns.boxplot(x=df['Word_count'])"
      ],
      "execution_count": 99,
      "outputs": [
        {
          "output_type": "execute_result",
          "data": {
            "text/plain": [
              "<matplotlib.axes._subplots.AxesSubplot at 0x7f3dfff4c518>"
            ]
          },
          "metadata": {
            "tags": []
          },
          "execution_count": 99
        },
        {
          "output_type": "display_data",
          "data": {
            "image/png": "[encoded data removed]",
            "text/plain": [
              "<Figure size 432x288 with 1 Axes>"
            ]
          },
          "metadata": {
            "tags": [],
            "needs_background": "light"
          }
        }
      ]
    },
    {
      "cell_type": "markdown",
      "metadata": {
        "id": "B3d6CBIiMLwJ",
        "colab_type": "text"
      },
      "source": [
        "# Model Planning"
      ]
    },
    {
      "cell_type": "code",
      "metadata": {
        "id": "nPIkUR596EBY",
        "colab_type": "code",
        "colab": {
          "base_uri": "https://localhost:8080/",
          "height": 354
        },
        "outputId": "4231d26b-d023-4ae8-e18c-5cdf8c32c735"
      },
      "source": [
        "sns.heatmap(df.corr(), cmap=\"Blues\")"
      ],
      "execution_count": 98,
      "outputs": [
        {
          "output_type": "execute_result",
          "data": {
            "text/plain": [
              "<matplotlib.axes._subplots.AxesSubplot at 0x7f3dfd4e5438>"
            ]
          },
          "metadata": {
            "tags": []
          },
          "execution_count": 98
        },
        {
          "output_type": "display_data",
          "data": {
            "image/png": "[encoded data removed]",
            "text/plain": [
              "<Figure size 432x288 with 2 Axes>"
            ]
          },
          "metadata": {
            "tags": [],
            "needs_background": "light"
          }
        }
      ]
    },
    {
      "cell_type": "code",
      "metadata": {
        "id": "6YdN8RcN9R99",
        "colab_type": "code",
        "colab": {
          "base_uri": "https://localhost:8080/",
          "height": 300
        },
        "outputId": "774f0997-1511-4b98-d39b-52a5a73b121e"
      },
      "source": [
        "df.describe()"
      ],
      "execution_count": 115,
      "outputs": [
        {
          "output_type": "execute_result",
          "data": {
            "text/html": [
              "<div>\n",
              "<style scoped>\n",
              "    .dataframe tbody tr th:only-of-type {\n",
              "        vertical-align: middle;\n",
              "    }\n",
              "\n",
              "    .dataframe tbody tr th {\n",
              "        vertical-align: top;\n",
              "    }\n",
              "\n",
              "    .dataframe thead th {\n",
              "        text-align: right;\n",
              "    }\n",
              "</style>\n",
              "<table border=\"1\" class=\"dataframe\">\n",
              "  <thead>\n",
              "    <tr style=\"text-align: right;\">\n",
              "      <th></th>\n",
              "      <th>retweet_count</th>\n",
              "      <th>favourite_count</th>\n",
              "      <th>Word_count</th>\n",
              "      <th>Polarity</th>\n",
              "      <th>Sentiment</th>\n",
              "      <th>viral</th>\n",
              "      <th>diff_in_min</th>\n",
              "      <th>diff_seconds</th>\n",
              "      <th>senti</th>\n",
              "    </tr>\n",
              "  </thead>\n",
              "  <tbody>\n",
              "    <tr>\n",
              "      <th>count</th>\n",
              "      <td>3047.000000</td>\n",
              "      <td>3047.000000</td>\n",
              "      <td>3047.000000</td>\n",
              "      <td>3047.000000</td>\n",
              "      <td>3047.000000</td>\n",
              "      <td>3047.000000</td>\n",
              "      <td>3047.000000</td>\n",
              "      <td>3.047000e+03</td>\n",
              "      <td>3047.000000</td>\n",
              "    </tr>\n",
              "    <tr>\n",
              "      <th>mean</th>\n",
              "      <td>304.735478</td>\n",
              "      <td>803.609124</td>\n",
              "      <td>160.812274</td>\n",
              "      <td>0.067815</td>\n",
              "      <td>0.616016</td>\n",
              "      <td>0.047011</td>\n",
              "      <td>21937.279555</td>\n",
              "      <td>1.316237e+06</td>\n",
              "      <td>0.193961</td>\n",
              "    </tr>\n",
              "    <tr>\n",
              "      <th>std</th>\n",
              "      <td>546.292596</td>\n",
              "      <td>1415.648245</td>\n",
              "      <td>118.102155</td>\n",
              "      <td>0.633010</td>\n",
              "      <td>0.486434</td>\n",
              "      <td>0.103215</td>\n",
              "      <td>28681.726871</td>\n",
              "      <td>1.720904e+06</td>\n",
              "      <td>1.615378</td>\n",
              "    </tr>\n",
              "    <tr>\n",
              "      <th>min</th>\n",
              "      <td>5.000000</td>\n",
              "      <td>0.000000</td>\n",
              "      <td>0.000000</td>\n",
              "      <td>-0.994200</td>\n",
              "      <td>0.000000</td>\n",
              "      <td>0.000155</td>\n",
              "      <td>331.215325</td>\n",
              "      <td>1.987292e+04</td>\n",
              "      <td>-2.000000</td>\n",
              "    </tr>\n",
              "    <tr>\n",
              "      <th>25%</th>\n",
              "      <td>81.000000</td>\n",
              "      <td>177.000000</td>\n",
              "      <td>60.000000</td>\n",
              "      <td>-0.523300</td>\n",
              "      <td>0.000000</td>\n",
              "      <td>0.006008</td>\n",
              "      <td>5137.774190</td>\n",
              "      <td>3.082665e+05</td>\n",
              "      <td>-2.000000</td>\n",
              "    </tr>\n",
              "    <tr>\n",
              "      <th>50%</th>\n",
              "      <td>154.000000</td>\n",
              "      <td>393.000000</td>\n",
              "      <td>143.000000</td>\n",
              "      <td>0.000000</td>\n",
              "      <td>1.000000</td>\n",
              "      <td>0.014016</td>\n",
              "      <td>8595.018333</td>\n",
              "      <td>5.157011e+05</td>\n",
              "      <td>0.000000</td>\n",
              "    </tr>\n",
              "    <tr>\n",
              "      <th>75%</th>\n",
              "      <td>313.000000</td>\n",
              "      <td>855.000000</td>\n",
              "      <td>224.000000</td>\n",
              "      <td>0.670500</td>\n",
              "      <td>1.000000</td>\n",
              "      <td>0.039304</td>\n",
              "      <td>25814.347455</td>\n",
              "      <td>1.548861e+06</td>\n",
              "      <td>2.000000</td>\n",
              "    </tr>\n",
              "    <tr>\n",
              "      <th>max</th>\n",
              "      <td>11008.000000</td>\n",
              "      <td>20455.000000</td>\n",
              "      <td>499.000000</td>\n",
              "      <td>0.995000</td>\n",
              "      <td>1.000000</td>\n",
              "      <td>1.519609</td>\n",
              "      <td>116117.117319</td>\n",
              "      <td>6.967027e+06</td>\n",
              "      <td>2.000000</td>\n",
              "    </tr>\n",
              "  </tbody>\n",
              "</table>\n",
              "</div>"
            ],
            "text/plain": [
              "       retweet_count  favourite_count  ...  diff_seconds        senti\n",
              "count    3047.000000      3047.000000  ...  3.047000e+03  3047.000000\n",
              "mean      304.735478       803.609124  ...  1.316237e+06     0.193961\n",
              "std       546.292596      1415.648245  ...  1.720904e+06     1.615378\n",
              "min         5.000000         0.000000  ...  1.987292e+04    -2.000000\n",
              "25%        81.000000       177.000000  ...  3.082665e+05    -2.000000\n",
              "50%       154.000000       393.000000  ...  5.157011e+05     0.000000\n",
              "75%       313.000000       855.000000  ...  1.548861e+06     2.000000\n",
              "max     11008.000000     20455.000000  ...  6.967027e+06     2.000000\n",
              "\n",
              "[8 rows x 9 columns]"
            ]
          },
          "metadata": {
            "tags": []
          },
          "execution_count": 115
        }
      ]
    },
    {
      "cell_type": "code",
      "metadata": {
        "id": "Iz1e2lLE9g2M",
        "colab_type": "code",
        "colab": {
          "base_uri": "https://localhost:8080/",
          "height": 681
        },
        "outputId": "2b4d6882-6284-4133-9aa8-c6fa35aa2fd6"
      },
      "source": [
        "corr_mat=df.corr(method='pearson')\n",
        "plt.figure(figsize=(20,10))\n",
        "sns.heatmap(corr_mat,vmax=1,square=True,annot=True,cmap='cubehelix')"
      ],
      "execution_count": 116,
      "outputs": [
        {
          "output_type": "execute_result",
          "data": {
            "text/plain": [
              "<matplotlib.axes._subplots.AxesSubplot at 0x7f3dfce64358>"
            ]
          },
          "metadata": {
            "tags": []
          },
          "execution_count": 116
        },
        {
          "output_type": "display_data",
          "data": {
            "image/png": "[encoded data removed]",
            "text/plain": [
              "<Figure size 1440x720 with 2 Axes>"
            ]
          },
          "metadata": {
            "tags": [],
            "needs_background": "light"
          }
        }
      ]
    },
    {
      "cell_type": "markdown",
      "metadata": {
        "id": "P6thTKaoMQfx",
        "colab_type": "text"
      },
      "source": [
        "# Model Building"
      ]
    },
    {
      "cell_type": "code",
      "metadata": {
        "id": "fTLzC8_v6PpD",
        "colab_type": "code",
        "colab": {}
      },
      "source": [
        "X_df=df.loc[:,['Word_count','favourite_count','diff_in_min','senti','Polarity']]\n",
        "y_df=df.loc[:,['retweet_count']]"
      ],
      "execution_count": 0,
      "outputs": []
    },
    {
      "cell_type": "code",
      "metadata": {
        "id": "u_LAJF9X6zS_",
        "colab_type": "code",
        "colab": {}
      },
      "source": [
        "X_train, X_test, y_train, y_test = train_test_split(X_df, y_df, test_size=0.2, random_state=42)"
      ],
      "execution_count": 0,
      "outputs": []
    },
    {
      "cell_type": "markdown",
      "metadata": {
        "id": "kloACmiZMWQY",
        "colab_type": "text"
      },
      "source": [
        "Random forest regressor"
      ]
    },
    {
      "cell_type": "code",
      "metadata": {
        "id": "LICPZtyr61Nk",
        "colab_type": "code",
        "colab": {}
      },
      "source": [
        "clf = RandomForestRegressor(n_estimators=1000)\n",
        "clf.fit(X_train, y_train.values.ravel())\n",
        "y_pred=clf.predict(X_test)\n"
      ],
      "execution_count": 0,
      "outputs": []
    },
    {
      "cell_type": "code",
      "metadata": {
        "id": "IR8C0zV6Hrf1",
        "colab_type": "code",
        "colab": {}
      },
      "source": [
        "RF=clf.score(X_test,y_test)"
      ],
      "execution_count": 0,
      "outputs": []
    },
    {
      "cell_type": "code",
      "metadata": {
        "id": "EURVXYWU669v",
        "colab_type": "code",
        "colab": {
          "base_uri": "https://localhost:8080/",
          "height": 34
        },
        "outputId": "ea9e2d59-7241-4327-e267-d76650402c6c"
      },
      "source": [
        "print(\"Accuracy:\",clf.score(X_test,y_test))"
      ],
      "execution_count": 122,
      "outputs": [
        {
          "output_type": "stream",
          "text": [
            "Accuracy: 0.6894947174390328\n"
          ],
          "name": "stdout"
        }
      ]
    },
    {
      "cell_type": "code",
      "metadata": {
        "id": "evPmqEFO68H8",
        "colab_type": "code",
        "colab": {
          "base_uri": "https://localhost:8080/",
          "height": 121
        },
        "outputId": "04c0aa03-d009-47d9-9b4f-a2614c22b9be"
      },
      "source": [
        "feature_imp = pd.Series(clf.feature_importances_,index=X_df.columns).sort_values(ascending=False)\n",
        "feature_imp"
      ],
      "execution_count": 123,
      "outputs": [
        {
          "output_type": "execute_result",
          "data": {
            "text/plain": [
              "favourite_count    0.677131\n",
              "diff_in_min        0.140998\n",
              "Polarity           0.106122\n",
              "Word_count         0.068229\n",
              "senti              0.007520\n",
              "dtype: float64"
            ]
          },
          "metadata": {
            "tags": []
          },
          "execution_count": 123
        }
      ]
    },
    {
      "cell_type": "code",
      "metadata": {
        "id": "bglEAWjM7JPl",
        "colab_type": "code",
        "colab": {
          "base_uri": "https://localhost:8080/",
          "height": 312
        },
        "outputId": "3743c8b5-d9d1-483b-a393-6883f8b731dd"
      },
      "source": [
        "\n",
        "%matplotlib inline\n",
        "# Creating a bar plot\n",
        "sns.barplot(x=feature_imp, y=feature_imp.index)\n",
        "# Add labels to your graph\n",
        "plt.xlabel('Feature Importance Score')\n",
        "plt.ylabel('Features')\n",
        "plt.title(\"Visualizing Important Features\")\n",
        "plt.legend()\n",
        "plt.show()\n"
      ],
      "execution_count": 124,
      "outputs": [
        {
          "output_type": "stream",
          "text": [
            "No handles with labels found to put in legend.\n"
          ],
          "name": "stderr"
        },
        {
          "output_type": "display_data",
          "data": {
            "image/png": "[encoded data removed]",
            "text/plain": [
              "<Figure size 432x288 with 1 Axes>"
            ]
          },
          "metadata": {
            "tags": [],
            "needs_background": "light"
          }
        }
      ]
    },
    {
      "cell_type": "markdown",
      "metadata": {
        "id": "3anWl1PEMZ33",
        "colab_type": "text"
      },
      "source": [
        "Ridge Regression"
      ]
    },
    {
      "cell_type": "code",
      "metadata": {
        "id": "Q_SS1as_FIOb",
        "colab_type": "code",
        "colab": {}
      },
      "source": [
        "model=linear_model.Ridge()\n",
        "model.fit(X_train,y_train)\n",
        "y_predict=model.predict(X_test)"
      ],
      "execution_count": 0,
      "outputs": []
    },
    {
      "cell_type": "code",
      "metadata": {
        "id": "Gjt7KUJPHu3y",
        "colab_type": "code",
        "colab": {}
      },
      "source": [
        "Ridge=model.score(X_test,y_test)"
      ],
      "execution_count": 0,
      "outputs": []
    },
    {
      "cell_type": "code",
      "metadata": {
        "id": "wIB2NLrkFPdi",
        "colab_type": "code",
        "colab": {
          "base_uri": "https://localhost:8080/",
          "height": 34
        },
        "outputId": "e6173b4b-05f2-462c-eb17-81ba8c00468c"
      },
      "source": [
        "print(\"Accuracy:\",model.score(X_test,y_test))"
      ],
      "execution_count": 130,
      "outputs": [
        {
          "output_type": "stream",
          "text": [
            "Accuracy: 0.7004272266356009\n"
          ],
          "name": "stdout"
        }
      ]
    },
    {
      "cell_type": "markdown",
      "metadata": {
        "id": "rZiXxgRTMh4t",
        "colab_type": "text"
      },
      "source": [
        "KNN"
      ]
    },
    {
      "cell_type": "code",
      "metadata": {
        "id": "EMtQRADCF63x",
        "colab_type": "code",
        "colab": {}
      },
      "source": [
        "n_neighbors=5\n",
        "knn=neighbors.KNeighborsRegressor(n_neighbors,weights='uniform')\n",
        "knn.fit(X_train,y_train)\n",
        "y1_knn=knn.predict(X_test)"
      ],
      "execution_count": 0,
      "outputs": []
    },
    {
      "cell_type": "code",
      "metadata": {
        "id": "vljN7ZVuH5gv",
        "colab_type": "code",
        "colab": {}
      },
      "source": [
        "knn1=knn.score(X_test,y_test)"
      ],
      "execution_count": 0,
      "outputs": []
    },
    {
      "cell_type": "code",
      "metadata": {
        "id": "-HKoU78oGEfY",
        "colab_type": "code",
        "colab": {
          "base_uri": "https://localhost:8080/",
          "height": 34
        },
        "outputId": "f225dd1f-6565-4b60-d264-493c6de6c74c"
      },
      "source": [
        "print(\"Accuracy:\",knn.score(X_test,y_test))"
      ],
      "execution_count": 136,
      "outputs": [
        {
          "output_type": "stream",
          "text": [
            "Accuracy: 0.5157716435824147\n"
          ],
          "name": "stdout"
        }
      ]
    },
    {
      "cell_type": "markdown",
      "metadata": {
        "id": "zlOCV_KKMlJc",
        "colab_type": "text"
      },
      "source": [
        "Baysian Ridge Regressor"
      ]
    },
    {
      "cell_type": "code",
      "metadata": {
        "id": "vufKizwRGTRJ",
        "colab_type": "code",
        "colab": {}
      },
      "source": [
        "reg = linear_model.BayesianRidge()\n",
        "reg.fit(X_train,y_train.values.ravel())\n",
        "y1_reg=reg.predict(X_train)"
      ],
      "execution_count": 0,
      "outputs": []
    },
    {
      "cell_type": "code",
      "metadata": {
        "id": "B6g8FuySIczx",
        "colab_type": "code",
        "colab": {}
      },
      "source": [
        "Bay_Ridge=reg.score(X_test,y_test)"
      ],
      "execution_count": 0,
      "outputs": []
    },
    {
      "cell_type": "code",
      "metadata": {
        "id": "bz5bP-LsGX5U",
        "colab_type": "code",
        "colab": {
          "base_uri": "https://localhost:8080/",
          "height": 34
        },
        "outputId": "fbc787be-0341-497a-9829-a23b1b929814"
      },
      "source": [
        "print(\"Accuracy:\",reg.score(X_test,y_test))"
      ],
      "execution_count": 144,
      "outputs": [
        {
          "output_type": "stream",
          "text": [
            "Accuracy: 0.7028537962818087\n"
          ],
          "name": "stdout"
        }
      ]
    },
    {
      "cell_type": "markdown",
      "metadata": {
        "id": "Iz9UX-nUMsgx",
        "colab_type": "text"
      },
      "source": [
        "Decision Tree Regressor"
      ]
    },
    {
      "cell_type": "code",
      "metadata": {
        "id": "NLX7VkkWGesQ",
        "colab_type": "code",
        "colab": {}
      },
      "source": [
        "dec = tree.DecisionTreeRegressor(max_depth=1)\n",
        "dec.fit(X_train,y_train)\n",
        "y1_dec=dec.predict(X_test)"
      ],
      "execution_count": 0,
      "outputs": []
    },
    {
      "cell_type": "code",
      "metadata": {
        "id": "q22lyMavIi7w",
        "colab_type": "code",
        "colab": {}
      },
      "source": [
        "DTR=dec.score(X_test,y_test)"
      ],
      "execution_count": 0,
      "outputs": []
    },
    {
      "cell_type": "code",
      "metadata": {
        "id": "jsGa_i9iGe25",
        "colab_type": "code",
        "colab": {
          "base_uri": "https://localhost:8080/",
          "height": 34
        },
        "outputId": "8c11e6f4-9dc0-4519-d775-d147f5ce1300"
      },
      "source": [
        "print(\"Accuracy:\",dec.score(X_test,y_test))"
      ],
      "execution_count": 141,
      "outputs": [
        {
          "output_type": "stream",
          "text": [
            "Accuracy: 0.3842341172815359\n"
          ],
          "name": "stdout"
        }
      ]
    },
    {
      "cell_type": "code",
      "metadata": {
        "id": "XQnAqDD0Iw4u",
        "colab_type": "code",
        "colab": {
          "base_uri": "https://localhost:8080/",
          "height": 206
        },
        "outputId": "7543e811-52e7-4e2b-b869-79786c6274ca"
      },
      "source": [
        "\n",
        "accuracy=[RF,Ridge,knn1,Bay_Ridge,DTR]\n",
        "col={'Accuracy':accuracy}\n",
        "models=['Random Forest Regressor','Ridge Regression','Knn','Bayesian Regression','Decision Tree']\n",
        "acc=DataFrame(data=col,index=models)\n",
        "acc"
      ],
      "execution_count": 156,
      "outputs": [
        {
          "output_type": "execute_result",
          "data": {
            "text/html": [
              "<div>\n",
              "<style scoped>\n",
              "    .dataframe tbody tr th:only-of-type {\n",
              "        vertical-align: middle;\n",
              "    }\n",
              "\n",
              "    .dataframe tbody tr th {\n",
              "        vertical-align: top;\n",
              "    }\n",
              "\n",
              "    .dataframe thead th {\n",
              "        text-align: right;\n",
              "    }\n",
              "</style>\n",
              "<table border=\"1\" class=\"dataframe\">\n",
              "  <thead>\n",
              "    <tr style=\"text-align: right;\">\n",
              "      <th></th>\n",
              "      <th>Accuracy</th>\n",
              "    </tr>\n",
              "  </thead>\n",
              "  <tbody>\n",
              "    <tr>\n",
              "      <th>Random Forest Regressor</th>\n",
              "      <td>0.689495</td>\n",
              "    </tr>\n",
              "    <tr>\n",
              "      <th>Ridge Regression</th>\n",
              "      <td>0.700427</td>\n",
              "    </tr>\n",
              "    <tr>\n",
              "      <th>Knn</th>\n",
              "      <td>0.515772</td>\n",
              "    </tr>\n",
              "    <tr>\n",
              "      <th>Bayesian Regression</th>\n",
              "      <td>0.702854</td>\n",
              "    </tr>\n",
              "    <tr>\n",
              "      <th>Decision Tree</th>\n",
              "      <td>0.384234</td>\n",
              "    </tr>\n",
              "  </tbody>\n",
              "</table>\n",
              "</div>"
            ],
            "text/plain": [
              "                         Accuracy\n",
              "Random Forest Regressor  0.689495\n",
              "Ridge Regression         0.700427\n",
              "Knn                      0.515772\n",
              "Bayesian Regression      0.702854\n",
              "Decision Tree            0.384234"
            ]
          },
          "metadata": {
            "tags": []
          },
          "execution_count": 156
        }
      ]
    },
    {
      "cell_type": "code",
      "metadata": {
        "id": "7p3tiYyyJQz6",
        "colab_type": "code",
        "colab": {
          "base_uri": "https://localhost:8080/",
          "height": 508
        },
        "outputId": "a9cf38e5-38bd-4351-f1e7-410705112746"
      },
      "source": [
        "acc.plot(kind='bar')"
      ],
      "execution_count": 158,
      "outputs": [
        {
          "output_type": "execute_result",
          "data": {
            "text/plain": [
              "<matplotlib.axes._subplots.AxesSubplot at 0x7f3df2ff9588>"
            ]
          },
          "metadata": {
            "tags": []
          },
          "execution_count": 158
        },
        {
          "output_type": "display_data",
          "data": {
            "image/png": "[encoded data removed]",
            "text/plain": [
              "<Figure size 432x432 with 1 Axes>"
            ]
          },
          "metadata": {
            "tags": [],
            "needs_background": "light"
          }
        }
      ]
    },
    {
      "cell_type": "markdown",
      "metadata": {
        "id": "J_Cq3CRJMxV0",
        "colab_type": "text"
      },
      "source": [
        "#Visualizations"
      ]
    },
    {
      "cell_type": "code",
      "metadata": {
        "id": "PMwdoSdk7VXQ",
        "colab_type": "code",
        "colab": {}
      },
      "source": [
        "website=df['screen_name'].unique()\n",
        "avg_virality=[]\n",
        "avg_tweets=[]\n",
        "number=[]\n",
        "for site in website:\n",
        "  a=df['viral'].loc[df['screen_name']==site].mean()\n",
        "  b=len(df.loc[df['screen_name']==site])\n",
        "  avg_virality.append(a)\n",
        "  number.append(b)"
      ],
      "execution_count": 0,
      "outputs": []
    },
    {
      "cell_type": "code",
      "metadata": {
        "id": "317Kaqne7YtK",
        "colab_type": "code",
        "colab": {
          "base_uri": "https://localhost:8080/",
          "height": 336
        },
        "outputId": "da92acc6-bd96-4d17-bc04-1a38b084719c"
      },
      "source": [
        "fig = plt.figure()\n",
        "ax = fig.add_axes([0,0,1,1])\n",
        "ax.bar(website,avg_virality)\n",
        "ax.set_ylabel('Avg virality')\n",
        "plt.show()"
      ],
      "execution_count": 110,
      "outputs": [
        {
          "output_type": "display_data",
          "data": {
            "image/png": "[encoded data removed]",
            "text/plain": [
              "<Figure size 432x288 with 1 Axes>"
            ]
          },
          "metadata": {
            "tags": [],
            "needs_background": "light"
          }
        }
      ]
    },
    {
      "cell_type": "code",
      "metadata": {
        "id": "uDRbts0z7a6G",
        "colab_type": "code",
        "colab": {}
      },
      "source": [
        "sentiment1=df['senti'].unique()\n",
        "avg_virality1=[]\n",
        "for sentiment in sentiment1:\n",
        "  a=df['viral'].loc[df['senti']==sentiment].mean()\n",
        "  avg_virality1.append(a)"
      ],
      "execution_count": 0,
      "outputs": []
    },
    {
      "cell_type": "code",
      "metadata": {
        "id": "eZ8QWQfR7n9j",
        "colab_type": "code",
        "colab": {
          "base_uri": "https://localhost:8080/",
          "height": 336
        },
        "outputId": "2bd7f866-7d35-48d8-d26c-0b68dcd0ff5d"
      },
      "source": [
        "fig = plt.figure()\n",
        "ax = fig.add_axes([0,0,1,1])\n",
        "ax.bar(sentiment1,avg_virality1)\n",
        "ax.set_ylabel('Avg Rank')\n",
        "plt.show()"
      ],
      "execution_count": 112,
      "outputs": [
        {
          "output_type": "display_data",
          "data": {
            "image/png": "[encoded data removed]",
            "text/plain": [
              "<Figure size 432x288 with 1 Axes>"
            ]
          },
          "metadata": {
            "tags": [],
            "needs_background": "light"
          }
        }
      ]
    },
    {
      "cell_type": "code",
      "metadata": {
        "id": "hXkLs2Ck7p1P",
        "colab_type": "code",
        "colab": {}
      },
      "source": [
        "df.to_csv('final123.csv')"
      ],
      "execution_count": 0,
      "outputs": []
    },
    {
      "cell_type": "markdown",
      "metadata": {
        "id": "FJ9yip-z8GIF",
        "colab_type": "text"
      },
      "source": [
        ""
      ]
    }
  ]
}